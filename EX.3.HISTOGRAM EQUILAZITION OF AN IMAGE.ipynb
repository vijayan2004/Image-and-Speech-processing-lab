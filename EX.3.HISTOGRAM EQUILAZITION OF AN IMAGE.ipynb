{
 "cells": [
  {
   "cell_type": "markdown",
   "metadata": {},
   "source": [
    "# HISTOGRAM EQUILAZITION FOR FULL IMAGE"
   ]
  },
  {
   "cell_type": "code",
   "execution_count": null,
   "metadata": {},
   "outputs": [],
   "source": [
    "import numpy as np\n",
    "import cv2 as cv\n",
    "from matplotlib import pyplot as plt\n",
    "img=cv.imread(\"C:\\\\Users\\\\GF LAB\\\\img_processing\\\\butterfly.jpg\")\n",
    "mask=np.zeros(img.shape[:2],np.uint8)\n",
    "mask[20:80,140:200]=255\n",
    "masked_img=cv.bitwise_and(img,img,mask=mask)\n",
    "hist_full=cv.calcHist([img],[0],None,[256],[0,256])\n",
    "hist_mask=cv.calcHist([img],[0],mask,[256],[0,256])\n",
    "plt.subplot(221),plt.imshow(img,'gray')\n",
    "plt.subplot(222),plt.imshow(mask,'gray')\n",
    "plt.subplot(223),plt.imshow(masked_img,'gray')\n",
    "plt.subplot(224),plt.plot(hist_full),plt.plot(hist_mask)\n",
    "plt.xlim([0,256])\n",
    "plt.show()\n",
    "equ=cv.equalizeHist(masked_img)\n",
    "res=np.hstack((masked_img,equ))\n",
    "cv.imwrite('result.png',res)\n",
    "img=cv.imread('result.png',0)\n",
    "plt.imshow(img)\n",
    "plt.show()"
   ]
  }
 ],
 "metadata": {
  "kernelspec": {
   "display_name": "Python 3",
   "language": "python",
   "name": "python3"
  },
  "language_info": {
   "codemirror_mode": {
    "name": "ipython",
    "version": 3
   },
   "file_extension": ".py",
   "mimetype": "text/x-python",
   "name": "python",
   "nbconvert_exporter": "python",
   "pygments_lexer": "ipython3",
   "version": "3.8.5"
  }
 },
 "nbformat": 4,
 "nbformat_minor": 4
}
