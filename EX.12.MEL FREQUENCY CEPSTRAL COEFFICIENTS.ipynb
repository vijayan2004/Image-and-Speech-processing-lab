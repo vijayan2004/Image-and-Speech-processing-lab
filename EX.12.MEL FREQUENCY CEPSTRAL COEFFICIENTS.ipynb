{
 "cells": [
  {
   "cell_type": "markdown",
   "metadata": {},
   "source": [
    "# MEL FREQUENCY CEPSTRAL COEFFICIENTS"
   ]
  },
  {
   "cell_type": "code",
   "execution_count": 1,
   "metadata": {},
   "outputs": [
    {
     "name": "stdout",
     "output_type": "stream",
     "text": [
      "(132298,) 22050\n",
      "[ 1.5069116e-06  9.2850125e-05  2.7585772e-04 ... -3.5846846e-03\n",
      " -8.6389696e-03  0.0000000e+00]\n",
      "sample rate:22050HZ\n",
      "audio duration:5.999909297052154s\n",
      "[[-550.04626   -552.06775   -555.0986    ... -398.3943    -385.07117\n",
      "  -392.4117   ]\n",
      " [  83.58829     82.09169     76.56254   ...  164.41812    166.0025\n",
      "   146.09053  ]\n",
      " [  11.401566    11.343729     7.778632  ...  -28.172832   -33.969055\n",
      "    -0.912182 ]\n",
      " ...\n",
      " [   9.940516    10.91823     12.609134  ...    5.2239475    3.4925768\n",
      "     1.567972 ]\n",
      " [  -9.236509    -8.038066    -6.3873234 ...  -14.802145   -12.307547\n",
      "   -11.38781  ]\n",
      " [ -10.523023    -7.51216     -6.2423477 ...    9.27582      9.589631\n",
      "    12.536171 ]]\n"
     ]
    }
   ],
   "source": [
    "import librosa\n",
    "\n",
    "y, sr = librosa.load(\"C:\\\\Users\\\\GF LAB\\\\Desktop\\\\CN LAB\\\\img_sp_lab\\\\dataset\\\\auds\\\\set1.wav\")\n",
    "print(y.shape, sr)\n",
    "print(y)\n",
    "print(\"sample rate:{0}HZ\".format(sr))\n",
    "print(\"audio duration:{0}s\".format(len(y)/sr))\n",
    "print(librosa.feature.mfcc(y=y,sr=sr,n_mfcc=13))"
   ]
  },
  {
   "cell_type": "code",
   "execution_count": null,
   "metadata": {},
   "outputs": [],
   "source": []
  }
 ],
 "metadata": {
  "kernelspec": {
   "display_name": "Python 3",
   "language": "python",
   "name": "python3"
  },
  "language_info": {
   "codemirror_mode": {
    "name": "ipython",
    "version": 3
   },
   "file_extension": ".py",
   "mimetype": "text/x-python",
   "name": "python",
   "nbconvert_exporter": "python",
   "pygments_lexer": "ipython3",
   "version": "3.8.5"
  }
 },
 "nbformat": 4,
 "nbformat_minor": 5
}
